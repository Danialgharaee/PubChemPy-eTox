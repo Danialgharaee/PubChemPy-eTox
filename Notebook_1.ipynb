{
  "cells": [
    {
      "cell_type": "code",
      "execution_count": null,
      "metadata": {
        "cell_id": "2c78ce269adc47e3abd79bc0862f99fc",
        "colab": {
          "base_uri": "https://localhost:8080/"
        },
        "deepnote_cell_type": "code",
        "execution_context_id": "86e0f904-513e-4b7a-8b16-1689f4958c3d",
        "execution_millis": 3760,
        "execution_start": 1725315736333,
        "id": "w-mqUPIr2Gz9",
        "outputId": "8d4f856d-bc57-4a39-9418-cc5e018baef3",
        "source_hash": "5ba16a71"
      },
      "outputs": [],
      "source": [
        "!pip install PubChemPy"
      ]
    },
    {
      "cell_type": "code",
      "execution_count": 2,
      "metadata": {
        "cell_id": "c2973f2c824c4fe1a3f15bf5c294f8cc",
        "deepnote_cell_type": "code",
        "execution_context_id": "86e0f904-513e-4b7a-8b16-1689f4958c3d",
        "execution_millis": 0,
        "execution_start": 1725315740143,
        "id": "27j2GRYX2Gz_",
        "source_hash": "cf2193de"
      },
      "outputs": [],
      "source": [
        "import pubchempy as pcp\n",
        "import csv"
      ]
    },
    {
      "cell_type": "code",
      "execution_count": 14,
      "metadata": {
        "cell_id": "da3c51af6a29478b97cb063dee6e6177",
        "deepnote_cell_type": "code",
        "execution_context_id": "86e0f904-513e-4b7a-8b16-1689f4958c3d",
        "execution_millis": 36962,
        "execution_start": 1725315810811,
        "id": "IvTZKYyp2Gz_",
        "source_hash": "b7f00c87"
      },
      "outputs": [],
      "source": [
        "# Fetch compounds similar to the one with CID. for example '11789254'\n",
        "compounds = pcp.get_compounds('11789254', 'cid', searchtype='similarity', MaxRecords=15,Threshold=70)"
      ]
    },
    {
      "cell_type": "code",
      "execution_count": 15,
      "metadata": {
        "cell_id": "deba090fe17345d6b40101a2d6f8010f",
        "deepnote_cell_type": "code",
        "deepnote_to_be_reexecuted": true,
        "execution_context_id": "86e0f904-513e-4b7a-8b16-1689f4958c3d",
        "execution_millis": 0,
        "execution_start": 1725315462835,
        "id": "7abAm18W2G0A",
        "source_hash": "b623e53d"
      },
      "outputs": [],
      "source": [
        "# Write the compound data to a CSV file\n",
        "with open('compounds.csv', 'w', newline='') as csvfile:\n",
        "    fieldnames = ['cid', 'smiles']\n",
        "    writer = csv.DictWriter(csvfile, fieldnames=fieldnames)\n",
        "\n",
        "    for compound in compounds:\n",
        "        writer.writerow({'cid' : compound.cid, 'smiles': compound.canonical_smiles})"
      ]
    },
    {
      "cell_type": "code",
      "execution_count": null,
      "metadata": {
        "id": "946Bl11Y3s9E"
      },
      "outputs": [],
      "source": []
    }
  ],
  "metadata": {
    "colab": {
      "provenance": []
    },
    "deepnote_execution_queue": [],
    "deepnote_notebook_id": "8600632fe0c04f688b3ab6556923f895",
    "kernelspec": {
      "display_name": "Python 3",
      "name": "python3"
    },
    "language_info": {
      "name": "python"
    }
  },
  "nbformat": 4,
  "nbformat_minor": 0
}
